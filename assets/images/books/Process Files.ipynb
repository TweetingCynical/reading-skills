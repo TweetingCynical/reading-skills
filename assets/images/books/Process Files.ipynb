{
 "cells": [
  {
   "cell_type": "code",
   "execution_count": 21,
   "metadata": {},
   "outputs": [],
   "source": [
    "import os\n",
    "import shutil\n",
    "from datetime import datetime\n"
   ]
  },
  {
   "cell_type": "code",
   "execution_count": 22,
   "metadata": {},
   "outputs": [],
   "source": [
    "def move_jpg_files_to_parent(folder):\n",
    "    for root, dirs, files in os.walk(folder):\n",
    "        for file in files:\n",
    "            if file.endswith(\".jpg\"):\n",
    "                src = os.path.join(root, file)\n",
    "                dst = os.path.join(os.path.dirname(root), file)  # Modified destination path\n",
    "                shutil.move(src, dst)\n"
   ]
  },
  {
   "cell_type": "code",
   "execution_count": 23,
   "metadata": {},
   "outputs": [],
   "source": [
    "def rename_jpg_files(folder):\n",
    "    for root, dirs, files in os.walk(folder):\n",
    "        files = [f for f in files if f.endswith('.jpg')]\n",
    "        files.sort(key=lambda x: os.path.getmtime(os.path.join(root, x)))\n",
    "        \n",
    "        # Rename the rest of the files sequentially\n",
    "        for i, file in enumerate(files):\n",
    "            new_name = f\"{i+1}.jpg\"\n",
    "            os.rename(os.path.join(root, file), os.path.join(root, new_name))\n"
   ]
  },
  {
   "cell_type": "code",
   "execution_count": 24,
   "metadata": {},
   "outputs": [],
   "source": [
    "current_directory = os.path.abspath('.')\n"
   ]
  },
  {
   "cell_type": "code",
   "execution_count": 25,
   "metadata": {},
   "outputs": [],
   "source": [
    "move_jpg_files_to_parent(current_directory)"
   ]
  },
  {
   "cell_type": "code",
   "execution_count": 26,
   "metadata": {},
   "outputs": [],
   "source": [
    "rename_jpg_files(current_directory)"
   ]
  },
  {
   "cell_type": "code",
   "execution_count": 27,
   "metadata": {},
   "outputs": [],
   "source": [
    "# Iterate through each folder in the current directory\n",
    "for folder in os.listdir(current_directory):\n",
    "    folder_path = os.path.join(current_directory, folder)\n",
    "    # Check if the item is a directory\n",
    "    if os.path.isdir(folder_path):\n",
    "        # Iterate through files in the folder\n",
    "        for item in os.listdir(folder_path):\n",
    "            item_path = os.path.join(folder_path, item)\n",
    "            # Check if the item is a file and not a .jpg file\n",
    "            if os.path.isfile(item_path) and not item.endswith('.jpg'):\n",
    "                os.remove(item_path)  # Delete the file\n",
    "            # Check if the item is a directory\n",
    "            elif os.path.isdir(item_path):\n",
    "                shutil.rmtree(item_path)  # Delete the subfolder recursively"
   ]
  },
  {
   "cell_type": "code",
   "execution_count": null,
   "metadata": {},
   "outputs": [],
   "source": []
  }
 ],
 "metadata": {
  "kernelspec": {
   "display_name": "Python 3",
   "language": "python",
   "name": "python3"
  },
  "language_info": {
   "codemirror_mode": {
    "name": "ipython",
    "version": 3
   },
   "file_extension": ".py",
   "mimetype": "text/x-python",
   "name": "python",
   "nbconvert_exporter": "python",
   "pygments_lexer": "ipython3",
   "version": "3.9.6"
  }
 },
 "nbformat": 4,
 "nbformat_minor": 2
}
